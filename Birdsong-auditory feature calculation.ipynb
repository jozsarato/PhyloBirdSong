{
 "cells": [
  {
   "cell_type": "markdown",
   "metadata": {},
   "source": [
    "\n",
    "# Calculation of auditory features\n",
    "This notebook calculates the auditory features for any sound file that are used in\n",
    "\n",
    "the publication Arato & Fitch (2021): \n",
    "\n",
    "Phylogenetic Signal in the Vocalizations of Vocal Learning and Vocal Non-Learning Birds\n",
    "\n",
    "\n",
    "Dependencies: \n",
    "\n",
    "numpy\n",
    "\n",
    "scipy \n",
    "\n",
    "pandas\n",
    "\n",
    "matplotlib\n",
    "\n",
    "librosa \n",
    "\n",
    "entropy package: https://github.com/raphaelvallat/entropy\n"
   ]
  },
  {
   "cell_type": "markdown",
   "metadata": {},
   "source": [
    "# Import Libraries"
   ]
  },
  {
   "cell_type": "code",
   "execution_count": 10,
   "metadata": {},
   "outputs": [],
   "source": [
    "import numpy as np\n",
    "from scipy.signal import butter, lfilter\n",
    "import pandas as pd\n",
    "import matplotlib.pyplot as plt\n",
    "import librosa\n",
    "from librosa import display\n",
    "from EntropyMod import spectral_entropy\n",
    "\n"
   ]
  },
  {
   "cell_type": "markdown",
   "metadata": {},
   "source": [
    "#  Preprocessing  + Acoustic feature calculation functions "
   ]
  },
  {
   "cell_type": "code",
   "execution_count": 15,
   "metadata": {},
   "outputs": [],
   "source": [
    "\n",
    "\n",
    "def BandFilt(Input,sr,lowHz,highHz):\n",
    "    Nyquist = sr * 0.5\n",
    "    # first define the cutoff freqs, in relation to Nyquist:\n",
    "    low = lowHz/Nyquist\n",
    "    high = highHz/Nyquist\n",
    "    b,a = butter(5, [low, high], btype='band')\n",
    "    return lfilter(b, a, Input)\n",
    "\n",
    "def Calc_SpectralFlux(X):\n",
    "\n",
    "    # difference spectrum (set first diff to zero)\n",
    "    X = np.c_[X[:, 0], X]\n",
    "    afDeltaX = np.diff(X, 1, axis=1)\n",
    "\n",
    "    # flux\n",
    "    vsf = np.sqrt((afDeltaX**2).sum(axis=0)) / X.shape[0]\n",
    "\n",
    "    return np.log(np.std(vsf))\n",
    "\n",
    "\n",
    "def Calc_Flatness(yy):\n",
    "    SpecFlat=librosa.feature.spectral_flatness(y=yy)\n",
    "    return np.log(np.mean(SpecFlat))\n",
    "\n",
    "def CV_RMS(Spect,n_fft,hop_length):\n",
    "    RMStr=librosa.feature.rms(S=Spect,frame_length=n_fft,hop_length=hop_length)\n",
    "    return np.std(RMStr)/np.mean(RMStr)\n",
    "\n",
    "def Calc_ContrastBands(Spect,sr,nband):\n",
    "    Contr=librosa.feature.spectral_contrast(S=Spect,sr=sr,n_bands=nband-1,fmin=500)  # fmin is the first band cutoff [0:fmin]\n",
    "    return np.log(np.mean(Contr,1))\n",
    "\n",
    "\n",
    "def Calc_SpectCentroid(Spect,sr):\n",
    "    SpectCentr=librosa.feature.spectral_centroid(S=Spect,sr=sr)[0]\n",
    "    return np.log(np.median(SpectCentr))\n",
    "\n"
   ]
  },
  {
   "cell_type": "markdown",
   "metadata": {},
   "source": [
    "#  Function for performing preprocessing and calculating all measures for a sound file"
   ]
  },
  {
   "cell_type": "code",
   "execution_count": 16,
   "metadata": {},
   "outputs": [],
   "source": [
    "def CalcMeasures(y,Fs,n_fft,hop_length,Zscore=1, NContrastBands=4,VisSpecto=0):\n",
    "    ''' this function performs preprocessing of auditory signal and returns values of acoustic features for the whole signal'''\n",
    "    y=BandFilt(y,Fs,100,10000) \n",
    "    if Zscore==1:\n",
    "        y=(y-np.mean(y))/np.std(y)\n",
    "    Specto = np.abs(librosa.stft(y, n_fft=n_fft,hop_length=hop_length)) \n",
    "    if VisSpecto==True:\n",
    "        display.specshow(Specto,cmap='gray_r')\n",
    "    SpecFl=Calc_SpectralFlux(Specto)\n",
    "    Flat=Calc_Flatness(y)\n",
    "    RMS=CV_RMS(Specto,n_fft,hop_length)\n",
    "    Contrast=Calc_ContrastBands(Specto,Fs,NContrastBands)\n",
    "    Centroid=Calc_SpectCentroid(Specto,Fs)\n",
    "    Entro=spectral_entropy(y, Fs, method='fft', nperseg=None, normalize=False)\n",
    "     \n",
    "    return RMS,SpecFl,Entro,Flat,Centroid,Contrast,len(y)/Fs\n",
    "\n"
   ]
  },
  {
   "cell_type": "markdown",
   "metadata": {},
   "source": [
    "#  Visualize spectogram and calculate all measures for an audio file"
   ]
  },
  {
   "cell_type": "code",
   "execution_count": null,
   "metadata": {},
   "outputs": [],
   "source": [
    "\n",
    "n_fft = 512\n",
    "hop_length = 256\n",
    "NBands=4  # number of contrast bands\n",
    "\n",
    "FileName=# YOUR AUDIO FILE\n",
    "y, sr = librosa.load(FileName)\n",
    "\n",
    "RMS,SpecFl,Entro,Flat,Centroid,Contrast,Length=CalcMeasures(y,sr,n_fft,hop_length,NContrastBands=NBands,VisSpecto=1)\n"
   ]
  }
 ],
 "metadata": {
  "kernelspec": {
   "display_name": "Python 3",
   "language": "python",
   "name": "python3"
  },
  "language_info": {
   "codemirror_mode": {
    "name": "ipython",
    "version": 3
   },
   "file_extension": ".py",
   "mimetype": "text/x-python",
   "name": "python",
   "nbconvert_exporter": "python",
   "pygments_lexer": "ipython3",
   "version": "3.7.8"
  }
 },
 "nbformat": 4,
 "nbformat_minor": 4
}
